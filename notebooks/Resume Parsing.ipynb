{
 "cells": [
  {
   "cell_type": "code",
   "execution_count": null,
   "id": "6c551843",
   "metadata": {},
   "outputs": [],
   "source": [
    "Resume Parsing"
   ]
  },
  {
   "cell_type": "code",
   "execution_count": null,
   "id": "5e38f8ea",
   "metadata": {},
   "outputs": [],
   "source": [
    "Steps\n",
    "1. Read in the resume\n",
    "    1. pdf\n",
    "    2. docx\n",
    "2. Extract the name"
   ]
  },
  {
   "cell_type": "code",
   "execution_count": 37,
   "id": "34ad0583",
   "metadata": {},
   "outputs": [],
   "source": [
    "import fitz\n",
    "import docx\n",
    "from os import path"
   ]
  },
  {
   "cell_type": "code",
   "execution_count": 20,
   "id": "26cdeb83",
   "metadata": {},
   "outputs": [],
   "source": [
    "pdf_file = '../data/resumes/pdfs/LyleOkoth_CV.pdf'\n",
    "docx_file = '../data/resumes/docx/LyleOkoth_CV.docx'"
   ]
  },
  {
   "cell_type": "code",
   "execution_count": null,
   "id": "4f4690ae",
   "metadata": {},
   "outputs": [],
   "source": [
    "1. Step one - Read in the resume"
   ]
  },
  {
   "cell_type": "code",
   "execution_count": 38,
   "id": "1a7fa65f",
   "metadata": {},
   "outputs": [],
   "source": [
    "def convert_pdf_to_text(pdf_file: str) -> str:\n",
    "    \"\"\"Converts a pdf file to string.\n",
    "    \n",
    "    Takes a path to a pdf file and then returns the text found in the file.\n",
    "    \n",
    "    Parameters\n",
    "    ----------\n",
    "    pdf_file: str\n",
    "        The path to the pdf file\n",
    "        \n",
    "    Raises\n",
    "    ------\n",
    "    FileNotFoundError:\n",
    "        When the given file is not found\n",
    "        \n",
    "    Returns\n",
    "    -------\n",
    "    pdf_text: str\n",
    "        The text found in the pdf file\n",
    "    \"\"\"\n",
    "    pdf_text = ''\n",
    "    if not path.isfile(pdf_file):\n",
    "        raise FileNotFoundError(f'The File {pdf_file} was not found.')\n",
    "    pdf_doc = fitz.open(pdf_file)\n",
    "    for page in pdf_doc:\n",
    "        pdf_text = pdf_text + str(page.get_text())\n",
    "    return pdf_text"
   ]
  },
  {
   "cell_type": "code",
   "execution_count": 39,
   "id": "5106d90c",
   "metadata": {},
   "outputs": [
    {
     "data": {
      "text/plain": [
       "'LYLE OKOTH \\n+254797668066 • okothlyleochieng@gmail.com • Nairobi, Kenya \\nLinkedIn • GitHub • Medium • Portfolio • Leetcode • Hackerrank \\nSOFTWARE ENGINEER \\nA software engineer that designs, develops and deploys web applications that leverage text analytics to \\nimprove search and recommendation systems for businesses with a solid grasp of the following software \\ndevelopment concepts: \\n• Micro services • REST • JSON • CI/CD • Test Driven Development • Object Oriented Design • Technical Writing \\n• Agile Methodologies • Containerization • Model View Controller Architecture \\nTECHNICAL SKILLS \\n• Python • Flask • PostgreSQL • Amazon Web Services • SQL • SQLAlchemy• Docker• Celery • Elasticsearch• \\nTerraform• Kubernetes• Spacy• Scikit-learn \\nPROFFESIONAL EXPERIENCE \\nSOFTWARE ENGINEER \\nOryks Robotics • 02/2021 - 02/2022 \\nA startup aiming to automate warehouse logistics for e-commerce operators. \\nResponsibilities | Tasks \\n\\uf0b7 Built software for reading sensor data from LIDAR’s, cameras and wheel encoders using \\nRaspberry Pi’s and Arduino based microcontrollers. \\n\\uf0b7 Developed perception and navigation algorithms using the Robot Operating System (ROS) for \\nindoor navigation. \\n\\uf0b7 Provided and managed ECS and EK8 clusters on Amazon Web Services. \\n\\uf0b7 Created and maintained CI/CD pipelines using GitHub, GitHub Actions and Amazon Code pipeline. \\nAchievements \\n\\uf0b7 Reduced software deployment time by 90% by containerizing the software and using GitHub \\nactions for building and deploying updates. \\nPROFESSIONAL EDUCATION \\nB.Sc. in Mechatronics Engineering • 2016 –2019  \\nJommo Kenyatta University of Agriculture and Technology • Nairobi, Kenya \\nMember • Society of Engineering Students (SES) \\nRelevant coursework: • C, C++ Programming • Solidworks \\nCOURSEWORK | CERTIFICATIONS \\n• ALX Africa • Software Engineering Boot camp • 07/2022 - 08/2023 \\nPERSONAL PROJECTS \\nSearch Service | Flask • AWS • Celery• Docker • Elasticsearch• Terraform | GitHub | Deployed Application \\n\\uf0b7 A web application consisting of two micro services: a blog service for registration of authors and \\nthe creation of articles and a search service for finding articles. \\n\\uf0b7 Uses Elasticsearch to power the search functionality, PostgreSQL and AWS S3 for storage and \\ncelery with Redis for image upload. \\n\\uf0b7 Microservices are containerized and deployed to AWS ECS using terraform and GitHub actions. \\n'"
      ]
     },
     "execution_count": 39,
     "metadata": {},
     "output_type": "execute_result"
    }
   ],
   "source": [
    "pdf_text = convert_pdf_to_text(pdf_file)\n",
    "pdf_text"
   ]
  },
  {
   "cell_type": "code",
   "execution_count": 40,
   "id": "a09b8081",
   "metadata": {},
   "outputs": [
    {
     "name": "stdout",
     "output_type": "stream",
     "text": [
      "LYLE OKOTH \n",
      "+254797668066 • okothlyleochieng@gmail.com • Nairobi, Kenya \n",
      "LinkedIn • GitHub • Medium • Portfolio • Leetcode • Hackerrank \n",
      "SOFTWARE ENGINEER \n",
      "A software engineer that designs, develops and deploys web applications that leverage text analytics to \n",
      "improve search and recommendation systems for businesses with a solid grasp of the following software \n",
      "development concepts: \n",
      "• Micro services • REST • JSON • CI/CD • Test Driven Development • Object Oriented Design • Technical Writing \n",
      "• Agile Methodologies • Containerization • Model View Controller Architecture \n",
      "TECHNICAL SKILLS \n",
      "• Python • Flask • PostgreSQL • Amazon Web Services • SQL • SQLAlchemy• Docker• Celery • Elasticsearch• \n",
      "Terraform• Kubernetes• Spacy• Scikit-learn \n",
      "PROFFESIONAL EXPERIENCE \n",
      "SOFTWARE ENGINEER \n",
      "Oryks Robotics • 02/2021 - 02/2022 \n",
      "A startup aiming to automate warehouse logistics for e-commerce operators. \n",
      "Responsibilities | Tasks \n",
      " Built software for reading sensor data from LIDAR’s, cameras and wheel encoders using \n",
      "Raspberry Pi’s and Arduino based microcontrollers. \n",
      " Developed perception and navigation algorithms using the Robot Operating System (ROS) for \n",
      "indoor navigation. \n",
      " Provided and managed ECS and EK8 clusters on Amazon Web Services. \n",
      " Created and maintained CI/CD pipelines using GitHub, GitHub Actions and Amazon Code pipeline. \n",
      "Achievements \n",
      " Reduced software deployment time by 90% by containerizing the software and using GitHub \n",
      "actions for building and deploying updates. \n",
      "PROFESSIONAL EDUCATION \n",
      "B.Sc. in Mechatronics Engineering • 2016 –2019  \n",
      "Jommo Kenyatta University of Agriculture and Technology • Nairobi, Kenya \n",
      "Member • Society of Engineering Students (SES) \n",
      "Relevant coursework: • C, C++ Programming • Solidworks \n",
      "COURSEWORK | CERTIFICATIONS \n",
      "• ALX Africa • Software Engineering Boot camp • 07/2022 - 08/2023 \n",
      "PERSONAL PROJECTS \n",
      "Search Service | Flask • AWS • Celery• Docker • Elasticsearch• Terraform | GitHub | Deployed Application \n",
      " A web application consisting of two micro services: a blog service for registration of authors and \n",
      "the creation of articles and a search service for finding articles. \n",
      " Uses Elasticsearch to power the search functionality, PostgreSQL and AWS S3 for storage and \n",
      "celery with Redis for image upload. \n",
      " Microservices are containerized and deployed to AWS ECS using terraform and GitHub actions. \n",
      "\n"
     ]
    }
   ],
   "source": [
    "print(pdf_text)"
   ]
  },
  {
   "cell_type": "code",
   "execution_count": 41,
   "id": "6e682bb8",
   "metadata": {},
   "outputs": [],
   "source": [
    "def convert_docx_to_text(docx_file: str) -> str:\n",
    "    \"\"\"Converts a docx file to string.\n",
    "    \n",
    "    Takes a path to a docx file and then returns the text found in the file.\n",
    "    \n",
    "    Parameters\n",
    "    ----------\n",
    "    docx_file: str\n",
    "        The path to the docx file\n",
    "        \n",
    "    Raises\n",
    "    ------\n",
    "    FileNotFoundError:\n",
    "        When the given file is not found\n",
    "        \n",
    "    Returns\n",
    "    -------\n",
    "    pdf_text: str\n",
    "        The text found in the docx file\n",
    "    \"\"\"\n",
    "    docx_text = []\n",
    "    if not path.isfile(docx_file):\n",
    "        raise FileNotFoundError(f'The File {docx_file} was not found.')\n",
    "    pdf_doc = fitz.open(pdf_file)\n",
    "    doc = docx.Document(docx_file)\n",
    "    for paragraph in doc.paragraphs:\n",
    "        docx_text.append(paragraph.text)\n",
    "    return '\\n'.join(docx_text)"
   ]
  },
  {
   "cell_type": "code",
   "execution_count": 42,
   "id": "dff801e3",
   "metadata": {},
   "outputs": [
    {
     "data": {
      "text/plain": [
       "'LYLE OKOTH\\n+254797668066 •  • Nairobi, Kenya\\n •  •  •  •  • \\nSOFTWARE ENGINEER\\nA software engineer that designs, develops and deploys web applications that leverage text analytics to improve search and recommendation systems for businesses with a solid grasp of the following software development concepts:\\n• Micro services • REST • JSON • CI/CD • Test Driven Development • Object Oriented Design • Technical Writing • Agile Methodologies • Containerization • Model View Controller Architecture\\nTECHNICAL SKILLS\\n• Python • Flask • PostgreSQL • Amazon Web Services • SQL • SQLAlchemy• Docker• Celery • Elasticsearch• Terraform• Kubernetes• Spacy• Scikit-learn\\nPROFFESIONAL EXPERIENCE\\nSOFTWARE ENGINEER\\nOryks Robotics • 02/2021 - 02/2022\\nA startup aiming to automate warehouse logistics for e-commerce operators.\\nResponsibilities | Tasks\\nBuilt software for reading sensor data from LIDAR’s, cameras and wheel encoders using Raspberry Pi’s and Arduino based microcontrollers.\\nDeveloped perception and navigation algorithms using the Robot Operating System (ROS) for indoor navigation.\\nProvided and managed ECS and EK8 clusters on Amazon Web Services.\\nCreated and maintained CI/CD pipelines using GitHub, GitHub Actions and Amazon Code pipeline.\\nAchievements\\nReduced software deployment time by 90% by containerizing the software and using GitHub actions for building and deploying updates.\\nPROFESSIONAL EDUCATION\\nB.Sc. in Mechatronics Engineering • 2016 –2019 \\nJommo Kenyatta University of Agriculture and Technology • Nairobi, Kenya\\nMember • Society of Engineering Students (SES)\\nRelevant coursework: • C, C++ Programming • Solidworks\\nCOURSEWORK | CERTIFICATIONS\\nALX Africa • Software Engineering Boot camp • 07/2022 - 08/2023\\nPERSONAL PROJECTS\\nSearch Service | Flask • AWS • Celery• Docker • Elasticsearch• Terraform |  | \\nA web application consisting of two micro services: a blog service for registration of authors and the creation of articles and a search service for finding articles.\\nUses Elasticsearch to power the search functionality, PostgreSQL and AWS S3 for storage and celery with Redis for image upload.\\nMicroservices are containerized and deployed to AWS ECS using terraform and GitHub actions.'"
      ]
     },
     "execution_count": 42,
     "metadata": {},
     "output_type": "execute_result"
    }
   ],
   "source": [
    "docx_text = convert_docx_to_text(docx_file)\n",
    "docx_text"
   ]
  },
  {
   "cell_type": "code",
   "execution_count": 43,
   "id": "112f9a74",
   "metadata": {},
   "outputs": [
    {
     "name": "stdout",
     "output_type": "stream",
     "text": [
      "LYLE OKOTH\n",
      "+254797668066 •  • Nairobi, Kenya\n",
      " •  •  •  •  • \n",
      "SOFTWARE ENGINEER\n",
      "A software engineer that designs, develops and deploys web applications that leverage text analytics to improve search and recommendation systems for businesses with a solid grasp of the following software development concepts:\n",
      "• Micro services • REST • JSON • CI/CD • Test Driven Development • Object Oriented Design • Technical Writing • Agile Methodologies • Containerization • Model View Controller Architecture\n",
      "TECHNICAL SKILLS\n",
      "• Python • Flask • PostgreSQL • Amazon Web Services • SQL • SQLAlchemy• Docker• Celery • Elasticsearch• Terraform• Kubernetes• Spacy• Scikit-learn\n",
      "PROFFESIONAL EXPERIENCE\n",
      "SOFTWARE ENGINEER\n",
      "Oryks Robotics • 02/2021 - 02/2022\n",
      "A startup aiming to automate warehouse logistics for e-commerce operators.\n",
      "Responsibilities | Tasks\n",
      "Built software for reading sensor data from LIDAR’s, cameras and wheel encoders using Raspberry Pi’s and Arduino based microcontrollers.\n",
      "Developed perception and navigation algorithms using the Robot Operating System (ROS) for indoor navigation.\n",
      "Provided and managed ECS and EK8 clusters on Amazon Web Services.\n",
      "Created and maintained CI/CD pipelines using GitHub, GitHub Actions and Amazon Code pipeline.\n",
      "Achievements\n",
      "Reduced software deployment time by 90% by containerizing the software and using GitHub actions for building and deploying updates.\n",
      "PROFESSIONAL EDUCATION\n",
      "B.Sc. in Mechatronics Engineering • 2016 –2019 \n",
      "Jommo Kenyatta University of Agriculture and Technology • Nairobi, Kenya\n",
      "Member • Society of Engineering Students (SES)\n",
      "Relevant coursework: • C, C++ Programming • Solidworks\n",
      "COURSEWORK | CERTIFICATIONS\n",
      "ALX Africa • Software Engineering Boot camp • 07/2022 - 08/2023\n",
      "PERSONAL PROJECTS\n",
      "Search Service | Flask • AWS • Celery• Docker • Elasticsearch• Terraform |  | \n",
      "A web application consisting of two micro services: a blog service for registration of authors and the creation of articles and a search service for finding articles.\n",
      "Uses Elasticsearch to power the search functionality, PostgreSQL and AWS S3 for storage and celery with Redis for image upload.\n",
      "Microservices are containerized and deployed to AWS ECS using terraform and GitHub actions.\n"
     ]
    }
   ],
   "source": [
    "print(docx_text)"
   ]
  },
  {
   "cell_type": "code",
   "execution_count": null,
   "id": "3b8a11a2",
   "metadata": {},
   "outputs": [],
   "source": [
    "#Embedded links are not extracted\n",
    "#Invalid characters my cause problems"
   ]
  },
  {
   "cell_type": "code",
   "execution_count": null,
   "id": "61b60709",
   "metadata": {},
   "outputs": [],
   "source": [
    "2. Step 2- Extract the name"
   ]
  },
  {
   "cell_type": "code",
   "execution_count": null,
   "id": "4be6a477",
   "metadata": {},
   "outputs": [],
   "source": []
  }
 ],
 "metadata": {
  "kernelspec": {
   "display_name": "Python 3 (ipykernel)",
   "language": "python",
   "name": "python3"
  },
  "language_info": {
   "codemirror_mode": {
    "name": "ipython",
    "version": 3
   },
   "file_extension": ".py",
   "mimetype": "text/x-python",
   "name": "python",
   "nbconvert_exporter": "python",
   "pygments_lexer": "ipython3",
   "version": "3.10.6"
  }
 },
 "nbformat": 4,
 "nbformat_minor": 5
}
